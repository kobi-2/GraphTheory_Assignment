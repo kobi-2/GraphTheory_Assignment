{
  "nbformat": 4,
  "nbformat_minor": 0,
  "metadata": {
    "colab": {
      "name": "GT Assignemnt - Summarization using Bipartite and HITS.ipynb",
      "provenance": [],
      "authorship_tag": "ABX9TyOAcRwpvVwIS2cPsYMRYWGw",
      "include_colab_link": true
    },
    "kernelspec": {
      "name": "python3",
      "display_name": "Python 3"
    },
    "language_info": {
      "name": "python"
    }
  },
  "cells": [
    {
      "cell_type": "markdown",
      "metadata": {
        "id": "view-in-github",
        "colab_type": "text"
      },
      "source": [
        "<a href=\"https://colab.research.google.com/github/kobi-2/GraphTheory_Assignment/blob/main/GT_Assignemnt_Summarization_using_Bipartite_and_HITS.ipynb\" target=\"_parent\"><img src=\"https://colab.research.google.com/assets/colab-badge.svg\" alt=\"Open In Colab\"/></a>"
      ]
    },
    {
      "cell_type": "code",
      "execution_count": 244,
      "metadata": {
        "id": "p4ECoNek_xDN"
      },
      "outputs": [],
      "source": [
        "import numpy as np\n",
        "import pandas as pd\n",
        "from nltk.tokenize import RegexpTokenizer\n",
        "from nltk.tokenize import sent_tokenize"
      ]
    },
    {
      "cell_type": "code",
      "source": [
        "import nltk\n",
        "nltk.download('punkt')"
      ],
      "metadata": {
        "colab": {
          "base_uri": "https://localhost:8080/"
        },
        "id": "73kU13dcHlfR",
        "outputId": "e876c3ec-0fe7-4740-c6b7-52967fb625aa"
      },
      "execution_count": 245,
      "outputs": [
        {
          "output_type": "stream",
          "name": "stdout",
          "text": [
            "[nltk_data] Downloading package punkt to /root/nltk_data...\n",
            "[nltk_data]   Package punkt is already up-to-date!\n"
          ]
        },
        {
          "output_type": "execute_result",
          "data": {
            "text/plain": [
              "True"
            ]
          },
          "metadata": {},
          "execution_count": 245
        }
      ]
    },
    {
      "cell_type": "code",
      "source": [
        "text = \"\"\"\n",
        "Microsoft is investigating a trojan program that attempts to switch off the firm's anti-spyware software.\n",
        "\n",
        "The spyware tool was only released by Microsoft in the last few weeks and has been downloaded by six million people. \n",
        "Stephen Toulouse, a security manager at Microsoft, said the malicious program was called Bankash-A Trojan and was being sent as an e-mail attachment. \n",
        "Microsoft said it did not believe the program was widespread and recommended users to use an anti-virus program. \n",
        "The program attempts to disable or delete Microsoft's anti-spyware tool and suppress warning messages given to users.\n",
        "\n",
        "It may also try to steal online banking passwords or other personal information by tracking users' keystrokes.\n",
        "\n",
        "Microsoft said in a statement it is investigating what it called a criminal attack on its software. \n",
        "Earlier this week, Microsoft said it would buy anti-virus software maker Sybari Software to improve its security in its Windows and e-mail software. \n",
        "Microsoft has said it plans to offer its own paid-for anti-virus software but it has not yet set a date for its release. \n",
        "The anti-spyware program being targeted is currently only in beta form and aims to help users find and remove spyware - programs which monitor internet use, causes advert pop-ups and slow a PC's performance.\n",
        "\"\"\""
      ],
      "metadata": {
        "id": "582DaEVS9rcn"
      },
      "execution_count": 246,
      "outputs": []
    },
    {
      "cell_type": "code",
      "source": [
        "headline = \"\"\"\n",
        "Microsoft seeking spyware trojan\n",
        "\"\"\".lower()"
      ],
      "metadata": {
        "id": "OFJ-OR-2_CU1"
      },
      "execution_count": 247,
      "outputs": []
    },
    {
      "cell_type": "code",
      "source": [
        "## lowercase the text\n",
        "text = text.lower()"
      ],
      "metadata": {
        "id": "XJtx1Mm_EN_D"
      },
      "execution_count": 248,
      "outputs": []
    },
    {
      "cell_type": "markdown",
      "source": [
        "## Notations:\n",
        "\n",
        "* entities = hubs\n",
        "* sentences = authorities\n",
        "---\n",
        "* hubs matrix = initial rank = 1\n",
        "* authorities matrix = initial rank = 1\n",
        "---\n",
        "* adjacency matrix = (hubs x authorities) or (entities x senteces)"
      ],
      "metadata": {
        "id": "4CgvUryDCd4M"
      }
    },
    {
      "cell_type": "code",
      "source": [
        "## tokenize sentences\n",
        "sent_tokens = sent_tokenize(text)\n",
        "\n",
        "## remove punctuaions\n",
        "import re\n",
        "sentences = []\n",
        "\n",
        "for sent in sent_tokens:\n",
        "  sentences.append(re.sub(r'[^\\w\\s]', '', sent))\n",
        "\n",
        "print(\"number of sentences: \", len(sentences))"
      ],
      "metadata": {
        "colab": {
          "base_uri": "https://localhost:8080/"
        },
        "id": "dlrwyJOtAX2F",
        "outputId": "1bff3db8-a95f-4699-8c25-c5f135a39ff6"
      },
      "execution_count": 249,
      "outputs": [
        {
          "output_type": "stream",
          "name": "stdout",
          "text": [
            "number of sentences:  10\n"
          ]
        }
      ]
    },
    {
      "cell_type": "code",
      "source": [
        "for sent in sentences:\n",
        "  print(sent)"
      ],
      "metadata": {
        "colab": {
          "base_uri": "https://localhost:8080/"
        },
        "id": "mz_hJ1m2r3qn",
        "outputId": "602e2454-5875-4279-9296-0a8062409c71"
      },
      "execution_count": 250,
      "outputs": [
        {
          "output_type": "stream",
          "name": "stdout",
          "text": [
            "\n",
            "microsoft is investigating a trojan program that attempts to switch off the firms antispyware software\n",
            "the spyware tool was only released by microsoft in the last few weeks and has been downloaded by six million people\n",
            "stephen toulouse a security manager at microsoft said the malicious program was called bankasha trojan and was being sent as an email attachment\n",
            "microsoft said it did not believe the program was widespread and recommended users to use an antivirus program\n",
            "the program attempts to disable or delete microsofts antispyware tool and suppress warning messages given to users\n",
            "it may also try to steal online banking passwords or other personal information by tracking users keystrokes\n",
            "microsoft said in a statement it is investigating what it called a criminal attack on its software\n",
            "earlier this week microsoft said it would buy antivirus software maker sybari software to improve its security in its windows and email software\n",
            "microsoft has said it plans to offer its own paidfor antivirus software but it has not yet set a date for its release\n",
            "the antispyware program being targeted is currently only in beta form and aims to help users find and remove spyware  programs which monitor internet use causes advert popups and slow a pcs performance\n"
          ]
        }
      ]
    },
    {
      "cell_type": "code",
      "source": [
        "## build the vocabulary\n",
        "\n",
        "## word tokenizer \n",
        "word_tokenizer = RegexpTokenizer(r'\\w+')\n",
        "\n",
        "## get all the words\n",
        "entities = word_tokenizer.tokenize(text)\n",
        "print(\"len with duplicate: \", len(entities))\n",
        "\n",
        "## remove duplicate entities\n",
        "entities = set(entities)\n",
        "print(\"len of set: \", len(entities))\n",
        "\n",
        "## convert set to list\n",
        "entities = list(entities)\n",
        "print(\"type: \", type(entities))\n",
        "print(\"len of entities after removing duplication: \", len(entities))\n"
      ],
      "metadata": {
        "colab": {
          "base_uri": "https://localhost:8080/"
        },
        "id": "T2IjF9NhAaV8",
        "outputId": "e94447b3-9ed0-458c-b2b6-22e6980b98ae"
      },
      "execution_count": 251,
      "outputs": [
        {
          "output_type": "stream",
          "name": "stdout",
          "text": [
            "len with duplicate:  221\n",
            "len of set:  121\n",
            "type:  <class 'list'>\n",
            "len of entities after removing duplication:  121\n"
          ]
        }
      ]
    },
    {
      "cell_type": "code",
      "source": [
        "## create adjacency matrix  \n",
        "## dimension: (hubs x authorities) = (entities x sentences)\n",
        "\n",
        "## create zero matrix of the dimension\n",
        "adj_mat = np.zeros((len(entities), len(sentences)))\n",
        "\n",
        "## for each word in the vocabulary (entity):\n",
        "##  for each sentence:\n",
        "##     mark 1 if the sentence has it, or 0 if does not\n",
        "in_count = 0\n",
        "out_count = 0\n",
        "for i, word in enumerate(entities):\n",
        "  for j, sent in enumerate(sentences):\n",
        "    if word in sent:\n",
        "      adj_mat[i][j] = 1\n",
        "      in_count += 1\n",
        "    else:\n",
        "      out_count += 1\n",
        "\n",
        "print(\"total shape:\", adj_mat.shape[0]*adj_mat.shape[1], \"  total count:\", in_count+out_count)\n",
        "assert (adj_mat.shape[0]*adj_mat.shape[1]) == (in_count+out_count)"
      ],
      "metadata": {
        "colab": {
          "base_uri": "https://localhost:8080/"
        },
        "id": "HAwXlWrYAcqu",
        "outputId": "6594d43c-f65e-4bd9-a7c5-c4ab3515d208"
      },
      "execution_count": 252,
      "outputs": [
        {
          "output_type": "stream",
          "name": "stdout",
          "text": [
            "total shape: 1210   total count: 1210\n"
          ]
        }
      ]
    },
    {
      "cell_type": "code",
      "source": [
        "## create Authority matrix\n",
        "## size = sentences, values = initial rank = 1\n",
        "authorities = np.ones((len(sentences), 1))\n",
        "print(\"authorities shape:\", authorities.shape)"
      ],
      "metadata": {
        "colab": {
          "base_uri": "https://localhost:8080/"
        },
        "id": "v7ji7x8dAhwA",
        "outputId": "9555dec6-044a-478e-c6b1-19d4b587087e"
      },
      "execution_count": 253,
      "outputs": [
        {
          "output_type": "stream",
          "name": "stdout",
          "text": [
            "authorities shape: (10, 1)\n"
          ]
        }
      ]
    },
    {
      "cell_type": "code",
      "source": [
        "## sentence len array...for normalizing the authority score later\n",
        "sent_len_arr = np.ones((len(sentences), 1))\n",
        "for i,sent in enumerate(sentences):\n",
        "  sent_len_arr[i][0] = len(sent.split())\n",
        "\n",
        "# max_len = max(sent_len_arr)\n",
        "# min_len = min(sent_len_arr)\n",
        "# diff = max_len-min_len\n",
        "\n",
        "# for i in range(sent_len_arr.shape[0]):\n",
        "#   sent_len_arr[i][0] = (sent_len_arr[i][0]-min_len+0.0001)/diff\n",
        "\n",
        "print(sent_len_arr)"
      ],
      "metadata": {
        "colab": {
          "base_uri": "https://localhost:8080/"
        },
        "id": "Mk_OwfwzpY-x",
        "outputId": "8b9a67dc-9940-40d4-ccc5-b1990fcff19f"
      },
      "execution_count": 254,
      "outputs": [
        {
          "output_type": "stream",
          "name": "stdout",
          "text": [
            "[[15.]\n",
            " [21.]\n",
            " [23.]\n",
            " [18.]\n",
            " [17.]\n",
            " [17.]\n",
            " [17.]\n",
            " [23.]\n",
            " [23.]\n",
            " [33.]]\n"
          ]
        }
      ]
    },
    {
      "cell_type": "code",
      "source": [
        "## create Hubs Matrix\n",
        "## size = entities, values = initial rank = 1\n",
        "hubs = np.ones((len(entities), 1))\n",
        "print(\"hubs shape:\", hubs.shape)"
      ],
      "metadata": {
        "colab": {
          "base_uri": "https://localhost:8080/"
        },
        "id": "RDZubWJPAkKG",
        "outputId": "1e0a4fa4-fdb1-4cc4-9dab-18a29dcf527f"
      },
      "execution_count": 255,
      "outputs": [
        {
          "output_type": "stream",
          "name": "stdout",
          "text": [
            "hubs shape: (121, 1)\n"
          ]
        }
      ]
    },
    {
      "cell_type": "code",
      "source": [
        "## term freq\n",
        "term_freq = np.ones((len(entities), 1))\n",
        "\n",
        "for i, term in enumerate(entities):\n",
        "  term_freq[i][0] = text.count(term)"
      ],
      "metadata": {
        "id": "Bc8Id4C8xhLK"
      },
      "execution_count": 256,
      "outputs": []
    },
    {
      "cell_type": "code",
      "source": [
        "## for k iterations\n",
        "k = 300\n",
        "\n",
        "# for i in range(k):\n",
        "i=-1\n",
        "while(True):\n",
        "  i+=1\n",
        "  ## Hubs Update\n",
        "  HubScore = np.matmul(adj_mat, authorities)\n",
        "  HubScore = HubScore+ term_freq\n",
        "\n",
        "  ## Authorities Update\n",
        "  AuthorityScore = np.matmul(adj_mat.transpose(), hubs)\n",
        "  AuthorityScore = np.divide(AuthorityScore,sent_len_arr)\n",
        "\n",
        "  old_hubs = hubs\n",
        "  old_authorities = authorities\n",
        "\n",
        "  hubs = HubScore/HubScore.sum()\n",
        "  authorities = AuthorityScore/AuthorityScore.sum()\n",
        "\n",
        "  print(\"iter:\", i, authorities)\n",
        "  print()\n",
        "\n",
        "  hub_diff = abs(hubs-old_hubs)\n",
        "  auth_diff = abs(authorities-old_authorities)\n",
        "\n",
        "  if hub_diff.sum() < 1e-10*hub_diff.shape[0] and auth_diff.sum() < 1e-10*auth_diff.shape[0]:\n",
        "    break"
      ],
      "metadata": {
        "colab": {
          "base_uri": "https://localhost:8080/"
        },
        "id": "3upth3nMnlnb",
        "outputId": "e77a8ca7-8383-44aa-9b47-1e07eb907053"
      },
      "execution_count": 257,
      "outputs": [
        {
          "output_type": "stream",
          "name": "stdout",
          "text": [
            "iter: 0 [[0.11236956]\n",
            " [0.1058025 ]\n",
            " [0.09327117]\n",
            " [0.0936413 ]\n",
            " [0.11267001]\n",
            " [0.13069721]\n",
            " [0.08112241]\n",
            " [0.08660895]\n",
            " [0.09327117]\n",
            " [0.09054572]]\n",
            "\n",
            "iter: 1 [[0.13200128]\n",
            " [0.09279265]\n",
            " [0.09108937]\n",
            " [0.10845175]\n",
            " [0.11893239]\n",
            " [0.11954755]\n",
            " [0.10068242]\n",
            " [0.08457216]\n",
            " [0.08654248]\n",
            " [0.06538796]]\n",
            "\n",
            "iter: 2 [[0.13172819]\n",
            " [0.09300223]\n",
            " [0.09018605]\n",
            " [0.10804181]\n",
            " [0.11793738]\n",
            " [0.12060748]\n",
            " [0.10373965]\n",
            " [0.08429587]\n",
            " [0.08642452]\n",
            " [0.06403681]]\n",
            "\n",
            "iter: 3 [[0.13181092]\n",
            " [0.09294143]\n",
            " [0.09019438]\n",
            " [0.10806662]\n",
            " [0.11795365]\n",
            " [0.12052904]\n",
            " [0.10381763]\n",
            " [0.08431395]\n",
            " [0.08642291]\n",
            " [0.06394947]]\n",
            "\n",
            "iter: 4 [[0.13181053]\n",
            " [0.09294162]\n",
            " [0.09019198]\n",
            " [0.10806326]\n",
            " [0.11794835]\n",
            " [0.1205334 ]\n",
            " [0.10382796]\n",
            " [0.08431419]\n",
            " [0.08642433]\n",
            " [0.06394439]]\n",
            "\n",
            "iter: 5 [[0.1318109 ]\n",
            " [0.09294134]\n",
            " [0.09019205]\n",
            " [0.10806329]\n",
            " [0.11794837]\n",
            " [0.12053291]\n",
            " [0.10382832]\n",
            " [0.08431437]\n",
            " [0.0864244 ]\n",
            " [0.06394405]]\n",
            "\n",
            "iter: 6 [[0.1318109 ]\n",
            " [0.09294133]\n",
            " [0.09019204]\n",
            " [0.10806327]\n",
            " [0.11794834]\n",
            " [0.12053293]\n",
            " [0.10382836]\n",
            " [0.08431437]\n",
            " [0.08642442]\n",
            " [0.06394403]]\n",
            "\n",
            "iter: 7 [[0.1318109 ]\n",
            " [0.09294133]\n",
            " [0.09019204]\n",
            " [0.10806327]\n",
            " [0.11794834]\n",
            " [0.12053293]\n",
            " [0.10382836]\n",
            " [0.08431437]\n",
            " [0.08642442]\n",
            " [0.06394403]]\n",
            "\n",
            "iter: 8 [[0.1318109 ]\n",
            " [0.09294133]\n",
            " [0.09019204]\n",
            " [0.10806327]\n",
            " [0.11794834]\n",
            " [0.12053293]\n",
            " [0.10382836]\n",
            " [0.08431437]\n",
            " [0.08642442]\n",
            " [0.06394403]]\n",
            "\n"
          ]
        }
      ]
    },
    {
      "cell_type": "code",
      "source": [
        "idx = np.argmax(authorities)\n",
        "print(sentences[idx])"
      ],
      "metadata": {
        "colab": {
          "base_uri": "https://localhost:8080/"
        },
        "id": "3YYOmUzY93Gv",
        "outputId": "5f54cd8a-60d8-4707-8b57-db79c4b9d9f1"
      },
      "execution_count": 258,
      "outputs": [
        {
          "output_type": "stream",
          "name": "stdout",
          "text": [
            "\n",
            "microsoft is investigating a trojan program that attempts to switch off the firms antispyware software\n"
          ]
        }
      ]
    },
    {
      "cell_type": "code",
      "source": [
        "print(headline)"
      ],
      "metadata": {
        "colab": {
          "base_uri": "https://localhost:8080/"
        },
        "id": "CpgjDzXp-38F",
        "outputId": "6309b89e-c5f4-44f7-9427-8ea202689245"
      },
      "execution_count": 259,
      "outputs": [
        {
          "output_type": "stream",
          "name": "stdout",
          "text": [
            "\n",
            "microsoft seeking spyware trojan\n",
            "\n"
          ]
        }
      ]
    }
  ]
}